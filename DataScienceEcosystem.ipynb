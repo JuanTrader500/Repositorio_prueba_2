{
 "cells": [
  {
   "cell_type": "markdown",
   "id": "f6081724-c1b9-4e13-ae1e-b4e58498ff61",
   "metadata": {},
   "source": [
    "# Data Science Tools and Ecosystem\n"
   ]
  },
  {
   "cell_type": "markdown",
   "id": "8eff19bf-3f3f-4292-b63b-1e7eec99e6f6",
   "metadata": {},
   "source": [
    "### En este cuaderno, se resumen las herramientas y ecosistemas de ciencia de datos."
   ]
  },
  {
   "cell_type": "markdown",
   "id": "133e9817-f41c-46c7-8bde-d654daa392c5",
   "metadata": {},
   "source": [
    "#### Objetivos \n",
    "* Explorar lenguajes de programacion utilizados en la ciencia de datos\n",
    "* Conocer diversas bibliotecas para la ciencia de datos\n",
    "* Conocer algunas herramientas OpenSourse para la ciencia de datos\n",
    "* Comprender algunas expreciones aritmeticas basicas con python"
   ]
  },
  {
   "cell_type": "markdown",
   "id": "fd0e7971-be6a-48e5-8a03-3c45adaafbd1",
   "metadata": {},
   "source": [
    "Algunos de los lenguajes populares que utilizan los científicos de datos son:\n",
    "1. Python\n",
    "2. R\n",
    "3. Julia\n",
    "4. C++\n",
    "5. Java\n",
    "6. SQL (Para manejo de bases de datos)"
   ]
  },
  {
   "cell_type": "markdown",
   "id": "96b0c917-af88-4fee-a72f-8eb5153c66ae",
   "metadata": {},
   "source": [
    "Algunas de las bibliotecas comúnmente utilizadas por los científicos de datos incluyen:\n",
    "1. pandas\n",
    "2. numpy\n",
    "3. matplotlib\n",
    "4. skitlearn\n",
    "5. seaborn\n",
    "6. polar\n",
    "7. scipy"
   ]
  },
  {
   "cell_type": "markdown",
   "id": "38bc0639-8b93-46ac-8122-530454398d51",
   "metadata": {},
   "source": [
    "## Herramientas de Ciencia de Datos\n",
    "\n",
    "| Herramienta | Descripción | Lenguaje Principal | Caso de Uso Principal |\n",
    "|:------------|:------------|:------------------:|----------------------:|\n",
    "| **Pandas** | Biblioteca para manipulación y análisis de datos con estructuras DataFrame | Python | Limpieza, transformación y análisis exploratorio de datos |\n",
    "| **Scikit-learn** | Biblioteca de aprendizaje automático con algoritmos de clasificación, regresión y clustering | Python | Construcción y evaluación de modelos predictivos |\n",
    "| **TensorFlow** | Framework de código abierto para aprendizaje profundo y redes neuronales | Python/C++ | Desarrollo de modelos complejos de deep learning |\n",
    "| **Apache Spark** | Motor de procesamiento de datos distribuido para análisis a gran escala | Scala/Java/Python | Procesamiento de big data y machine learning distribuido |"
   ]
  },
  {
   "cell_type": "markdown",
   "id": "619fe90d-5b48-4cc9-a8f7-bda74a9b287f",
   "metadata": {},
   "source": [
    "### A continuación, se presentan algunos ejemplos de evaluación de expresiones aritméticas en Python"
   ]
  },
  {
   "cell_type": "code",
   "execution_count": 17,
   "id": "7bc99a3d-16ed-4d15-bb36-196a48616b76",
   "metadata": {},
   "outputs": [
    {
     "data": {
      "text/plain": [
       "17"
      ]
     },
     "execution_count": 17,
     "metadata": {},
     "output_type": "execute_result"
    }
   ],
   "source": [
    "#Esta es una expresión aritmética simple para multiplicar y luego sumar enteros\n",
    "(3*4)+5"
   ]
  },
  {
   "cell_type": "code",
   "execution_count": 19,
   "id": "c6d83ae2-4489-405c-bf8e-56b4616b85e7",
   "metadata": {},
   "outputs": [
    {
     "data": {
      "text/plain": [
       "3.3333333333333335"
      ]
     },
     "execution_count": 19,
     "metadata": {},
     "output_type": "execute_result"
    }
   ],
   "source": [
    "#En el siguiente codigo vamos a convertir minutos a horas:\n",
    "#Esto convertirá 200 minutos a horas dividiendo por 60}\n",
    "\n",
    "200/60"
   ]
  },
  {
   "cell_type": "markdown",
   "id": "b99a445c-1c8f-46a2-aa9f-0f16abc5a307",
   "metadata": {},
   "source": [
    "## Autor \n",
    "Juan Andres Muñoz Zapata"
   ]
  },
  {
   "cell_type": "code",
   "execution_count": null,
   "id": "3bab9868-d229-46ad-a4d0-34ae952f1f28",
   "metadata": {},
   "outputs": [],
   "source": []
  }
 ],
 "metadata": {
  "kernelspec": {
   "display_name": "Python [conda env:base] *",
   "language": "python",
   "name": "conda-base-py"
  },
  "language_info": {
   "codemirror_mode": {
    "name": "ipython",
    "version": 3
   },
   "file_extension": ".py",
   "mimetype": "text/x-python",
   "name": "python",
   "nbconvert_exporter": "python",
   "pygments_lexer": "ipython3",
   "version": "3.12.7"
  }
 },
 "nbformat": 4,
 "nbformat_minor": 5
}
